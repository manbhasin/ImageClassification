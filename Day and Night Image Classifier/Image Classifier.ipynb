{
 "cells": [
  {
   "cell_type": "code",
   "execution_count": null,
   "metadata": {},
   "outputs": [],
   "source": [
    "#IMPORTING ALL THE NECESSARY PACKAGES\n",
    "import cv2 \n",
    "import helpers\n",
    "\n",
    "import numpy as np\n",
    "import matplotlib.pyplot as plt\n",
    "import matplotlib.image as mpimg\n",
    "\n",
    "%matplotlib inline"
   ]
  },
  {
   "cell_type": "code",
   "execution_count": null,
   "metadata": {},
   "outputs": [],
   "source": [
    "#SAVING DATASETS DIRECTORY INTO VARIABLES\n",
    "training_data = \"day_night_images/training/\"\n",
    "test_data = \"day_night_images/test/\""
   ]
  },
  {
   "cell_type": "code",
   "execution_count": null,
   "metadata": {},
   "outputs": [],
   "source": [
    "#LOADING DATASET WITH THE HELP OF LOAD_DATASET FUNCTION IN HELPERS.PY\n",
    "IMAGE_LIST = helpers.load_dataset(training_data)"
   ]
  },
  {
   "cell_type": "code",
   "execution_count": null,
   "metadata": {},
   "outputs": [],
   "source": [
    "#STANDARIZING ALL THE IMAGES IN THE DATASET\n",
    "STANDARDIZED_LIST = helpers.standardize(IMAGE_LIST)"
   ]
  },
  {
   "cell_type": "code",
   "execution_count": null,
   "metadata": {},
   "outputs": [],
   "source": [
    "#TESTING THE STANDARIZATION\n",
    "image_num = 4\n",
    "selected_image = STANDARDIZED_LIST[image_num][0]\n",
    "selected_label = STANDARDIZED_LIST[image_num][1]\n",
    "\n",
    "plt.imshow(selected_image)\n",
    "print(\"Shape: \"+str(selected_image.shape))\n",
    "print(\"Label [1 = day, 0 = night]: \" + str(selected_label))"
   ]
  },
  {
   "cell_type": "code",
   "execution_count": null,
   "metadata": {},
   "outputs": [],
   "source": [
    "#TAKING AVERAGE BRIGHTNESSS AS A FEATURE \n",
    "def avg_brightness(rgb_image):\n",
    "    \n",
    "    hsv = cv2.cvtColor(rgb_image, cv2.COLOR_RGB2HSV)\n",
    "\n",
    "    \n",
    "    sum_brightness = np.sum(hsv[:,:,2])\n",
    "    area = 600*1100.0  # pixels\n",
    "    avg = sum_brightness/area\n",
    "    \n",
    "    return avg"
   ]
  },
  {
   "cell_type": "code",
   "execution_count": null,
   "metadata": {},
   "outputs": [],
   "source": [
    "#TESTING AVERAGE BRIGHTNESS\n",
    "image_num = 50\n",
    "test_image = STANDARDIZED_LIST[image_num][0]\n",
    "\n",
    "avg = avg_brightness(test_image)\n",
    "print('Average brightness: ' + str(avg))\n",
    "plt.imshow(test_image)"
   ]
  },
  {
   "cell_type": "code",
   "execution_count": null,
   "metadata": {},
   "outputs": [],
   "source": [
    "#LABEL ESTIMATION FUNCTION USING A THRESHOLD VALUE\n",
    "def estimate_label(rgb_image):\n",
    "     \n",
    "    avg = avg_brightness(rgb_image)\n",
    "    predicted_label = 0\n",
    "    threshold = 99\n",
    "    if(avg > threshold):\n",
    "        predicted_label = 1\n",
    "    \n",
    "    return predicted_label    \n",
    "    "
   ]
  },
  {
   "cell_type": "code",
   "execution_count": null,
   "metadata": {},
   "outputs": [],
   "source": [
    "#USING RANDOM FUNCTION TO SHUFFLE THE IMAGES\n",
    "#THIS ENSURES THAT ORDER WILL NOT PLAY A ROLE IN TESTING THE ACCURACY.\n",
    "import random\n",
    "\n",
    "TEST_IMAGE_LIST = helpers.load_dataset(test_data)\n",
    "\n",
    "STANDARDIZED_TEST_LIST = helpers.standardize(TEST_IMAGE_LIST)\n",
    "\n",
    "random.shuffle(STANDARDIZED_TEST_LIST)"
   ]
  },
  {
   "cell_type": "code",
   "execution_count": null,
   "metadata": {},
   "outputs": [],
   "source": [
    "#THIS CODE STORES ALL THE MISCLASSIFIED IMAGES, \n",
    "#THEIR PREDICTED LABELS, AND THEIR TRUE LABELS, IN A LIST CALLED MISCLASSIFIED.\n",
    "def get_misclassified_images(test_images):\n",
    "    misclassified_images_labels = []\n",
    "\n",
    "    for image in test_images:\n",
    "\n",
    "        im = image[0]\n",
    "        true_label = image[1]\n",
    "\n",
    "        predicted_label = estimate_label(im)\n",
    " \n",
    "        if(predicted_label != true_label):\n",
    "            misclassified_images_labels.append((im, predicted_label, true_label))\n",
    "            \n",
    "    return misclassified_images_labels\n"
   ]
  },
  {
   "cell_type": "code",
   "execution_count": null,
   "metadata": {},
   "outputs": [],
   "source": [
    "# FIND ALL MISCLASSIFIED IMAGES IN A GIVEN TEST SET\n",
    "MISCLASSIFIED = get_misclassified_images(STANDARDIZED_TEST_LIST)\n",
    "\n",
    "total = len(STANDARDIZED_TEST_LIST)\n",
    "num_correct = total - len(MISCLASSIFIED)\n",
    "accuracy = 100*(num_correct/total)\n",
    "\n",
    "print('Accuracy: ' + str(accuracy) + '%')\n",
    "print(\"Number of misclassified images = \" + str(len(MISCLASSIFIED)) +' out of '+ str(total))"
   ]
  },
  {
   "cell_type": "code",
   "execution_count": null,
   "metadata": {},
   "outputs": [],
   "source": [
    "#VISUALIZE SOME OF THE IMAGES YOU CLASSIFIED WRONG (IN THE MISCLASSIFIED LIST)\n",
    "num = 3\n",
    "test_mis_im = MISCLASSIFIED[num][0]\n",
    "plt.imshow(test_mis_im)\n",
    "print(str(MISCLASSIFIED[num][1]))\n",
    "color = ('b','g','r')\n",
    "for i,col in enumerate(color):\n",
    "    hist = cv2.calcHist([test_mis_im],[i],None,[256],[0,256])\n",
    "    plt.plot(hist,color = col)\n",
    "    plt.xlim([0,256])\n",
    "plt.show()"
   ]
  }
 ],
 "metadata": {
  "kernelspec": {
   "display_name": "Python 3",
   "language": "python",
   "name": "python3"
  },
  "language_info": {
   "codemirror_mode": {
    "name": "ipython",
    "version": 3
   },
   "file_extension": ".py",
   "mimetype": "text/x-python",
   "name": "python",
   "nbconvert_exporter": "python",
   "pygments_lexer": "ipython3",
   "version": "3.6.9"
  }
 },
 "nbformat": 4,
 "nbformat_minor": 2
}
